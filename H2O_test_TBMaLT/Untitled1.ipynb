{
 "cells": [
  {
   "cell_type": "code",
   "execution_count": 16,
   "id": "73c1898c-1357-48b0-afa7-c6d7d211cdf9",
   "metadata": {},
   "outputs": [],
   "source": [
    "import torch\n",
    "import os\n",
    "from ase.build import molecule\n",
    "from tbmalt import Geometry, OrbitalInfo\n",
    "from tbmalt.tools.downloaders import download_dftb_parameter_set\n",
    "from tbmalt.physics.dftb import Dftb2\n",
    "from tbmalt.physics.dftb.feeds import SkFeed, SkfOccupationFeed, HubbardFeed, RepulsiveSplineFeed\n",
    "from tbmalt.data.units import length_units"
   ]
  },
  {
   "cell_type": "code",
   "execution_count": 21,
   "id": "2c75c0f8-57a3-4c45-bcf7-f0be9da6ea8f",
   "metadata": {},
   "outputs": [],
   "source": [
    "def feeds_scc(device, skf_file):\n",
    "    species = [1, 8]\n",
    "    h_feed = SkFeed.from_database(skf_file, species, 'hamiltonian', device=device)\n",
    "    s_feed = SkFeed.from_database(skf_file, species, 'overlap', device=device)\n",
    "    o_feed = SkfOccupationFeed.from_database(skf_file, species, device=device)\n",
    "    u_feed = HubbardFeed.from_database(skf_file, species, device=device)\n",
    "    r_feed = RepulsiveSplineFeed.from_database(skf_file, species, device=device)\n",
    "\n",
    "    return h_feed, s_feed, o_feed, u_feed, r_feed"
   ]
  },
  {
   "cell_type": "code",
   "execution_count": 18,
   "id": "ff3ec3f1-3325-4bea-b68f-15c66381d2d5",
   "metadata": {},
   "outputs": [
    {
     "name": "stdout",
     "output_type": "stream",
     "text": [
      "Downloading DFTB parameter set to mio.hdf5...\n",
      "Downloaded DFTB parameter set to mio.hdf5\n"
     ]
    }
   ],
   "source": [
    "parameter_url = \"https://github.com/dftbparams/mio/releases/download/v1.1.0/mio-1-1.tar.xz\"\n",
    "file_path = \"mio.hdf5\"  # Save as HDF5 file, not as a directory\n",
    "print(f\"Downloading DFTB parameter set to {file_path}...\")\n",
    "download_dftb_parameter_set(parameter_url, file_path)\n",
    "print(f\"Downloaded DFTB parameter set to {file_path}\")"
   ]
  },
  {
   "cell_type": "code",
   "execution_count": 19,
   "id": "8f603679-4e56-4875-aae9-ab7b765e0f17",
   "metadata": {},
   "outputs": [
    {
     "name": "stdout",
     "output_type": "stream",
     "text": [
      "Main device: cpu\n"
     ]
    }
   ],
   "source": [
    "device = torch.device('cpu')  # or torch.device('cuda') if you want GPU acceleration\n",
    "print(f\"Main device: {device}\")"
   ]
  },
  {
   "cell_type": "code",
   "execution_count": 22,
   "id": "1bfedea5-79d5-4d87-97af-ac81ccfa1cb1",
   "metadata": {},
   "outputs": [],
   "source": [
    "h_feed, s_feed, o_feed, u_feed, r_feed = feeds_scc(device,file_path)"
   ]
  },
  {
   "cell_type": "code",
   "execution_count": 23,
   "id": "9daa66b8-6b1a-4c10-b1d1-63f85e951f9a",
   "metadata": {},
   "outputs": [],
   "source": [
    "# 2. Create the molecule geometry\n",
    "def H2O_scc(device):\n",
    "    # Ensure device is a torch device\n",
    "    if isinstance(device, str):\n",
    "        device = torch.device(device)\n",
    "    \n",
    "    cutoff = torch.tensor([9.98], device=device)\n",
    "\n",
    "    geometry = Geometry(\n",
    "        torch.tensor([1, 8, 1], device=device),\n",
    "        torch.tensor([\n",
    "            [0.965, 0.075, 0.088],\n",
    "            [1.954, 0.047, 0.056],\n",
    "            [2.244, 0.660, 0.778]],\n",
    "            device=device),\n",
    "        torch.tensor([\n",
    "            [4.0, 0.0, 0.0],\n",
    "            [0.0, 5.0, 0.0],\n",
    "            [0.0, 0.0, 6.0]],\n",
    "            device=device), units='a',\n",
    "        cutoff = cutoff / length_units['angstrom'])\n",
    "\n",
    "    orbs = OrbitalInfo(geometry.atomic_numbers, {1: [0], 8: [0, 1]})\n",
    "\n",
    "    return geometry, orbs "
   ]
  },
  {
   "cell_type": "code",
   "execution_count": 24,
   "id": "6fe730a6-7e7f-498d-8eaa-8e04356f6216",
   "metadata": {},
   "outputs": [],
   "source": [
    "calculator = Dftb2(h_feed, s_feed, o_feed, u_feed, r_feed)"
   ]
  },
  {
   "cell_type": "code",
   "execution_count": 25,
   "id": "54fb5246-e84e-4c0f-8afa-01c911f906eb",
   "metadata": {},
   "outputs": [
    {
     "name": "stdout",
     "output_type": "stream",
     "text": [
      "Energy: tensor([0.0776])\n"
     ]
    }
   ],
   "source": [
    "geometry, orbs = H2O_scc(device)\n",
    "energy = calculator(geometry, orbs)\n",
    "print('Energy:', energy)"
   ]
  },
  {
   "cell_type": "code",
   "execution_count": 27,
   "id": "1b723a9b-5ec7-44b0-afdd-38a3904fdbe8",
   "metadata": {},
   "outputs": [
    {
     "name": "stdout",
     "output_type": "stream",
     "text": [
      "Total energy: tensor([-4.0727])\n"
     ]
    }
   ],
   "source": [
    "total_energy = calculator.total_energy\n",
    "print('Total energy:', total_energy)"
   ]
  },
  {
   "cell_type": "code",
   "execution_count": null,
   "id": "ffaca49c-06bd-438a-b629-d24a52beb358",
   "metadata": {},
   "outputs": [],
   "source": []
  }
 ],
 "metadata": {
  "kernelspec": {
   "display_name": "Python 3 (ipykernel)",
   "language": "python",
   "name": "python3"
  },
  "language_info": {
   "codemirror_mode": {
    "name": "ipython",
    "version": 3
   },
   "file_extension": ".py",
   "mimetype": "text/x-python",
   "name": "python",
   "nbconvert_exporter": "python",
   "pygments_lexer": "ipython3",
   "version": "3.11.0rc1"
  }
 },
 "nbformat": 4,
 "nbformat_minor": 5
}
