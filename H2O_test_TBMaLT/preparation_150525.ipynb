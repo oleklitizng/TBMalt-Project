{
 "cells": [
  {
   "cell_type": "code",
   "execution_count": 10,
   "id": "10330efd",
   "metadata": {},
   "outputs": [],
   "source": [
    "import torch\n",
    "from tbmalt import Geometry, OrbitalInfo\n",
    "from tbmalt.physics.dftb import Dftb2\n",
    "from tbmalt.physics.dftb.feeds import SkFeed, SkfOccupationFeed, HubbardFeed, RepulsiveSplineFeed\n",
    "from tbmalt.common.maths.interpolation import CubicSpline\n",
    "from tbmalt.ml.loss_function import Loss, mse_loss\n",
    "\n",
    "from ase.build import molecule\n",
    "\n",
    "Tensor = torch.Tensor\n",
    "\n",
    "# This must be set until typecasting from HDF5 databases has been implemented.\n",
    "torch.set_default_dtype(torch.float64)"
   ]
  },
  {
   "cell_type": "code",
   "execution_count": 11,
   "id": "aae3020a",
   "metadata": {},
   "outputs": [],
   "source": [
    "molecule = 'H2O'\n",
    "target = {'total_energy': torch.tensor([-4.0779])}\n",
    "shell_dict = {1: [0], 8: [0, 1]}"
   ]
  },
  {
   "cell_type": "code",
   "execution_count": 12,
   "id": "14a4d8dd",
   "metadata": {},
   "outputs": [],
   "source": [
    "parameter_db_path = 'mio.h5'\n",
    "\n",
    "# Type of ML model\n",
    "model = 'spline'\n",
    "\n",
    "# Whether performing model fitting\n",
    "fit_model = True\n",
    "\n",
    "# Number of training cycles\n",
    "number_of_epochs = 50\n",
    "\n",
    "# Learning rate\n",
    "lr = 0.002\n",
    "\n",
    "# Loss function\n",
    "loss_func = mse_loss"
   ]
  },
  {
   "cell_type": "code",
   "execution_count": null,
   "id": "49e2a307",
   "metadata": {},
   "outputs": [],
   "source": [
    "device = torch.device('cpu')\n",
    "\n",
    "geometry = Geometry(\n",
    "        torch.tensor([8,1,1], device=device),\n",
    "        torch.tensor([\n",
    "            [0.00000000, -0.71603315, -0.00000000],\n",
    "            [0.00000000, -0.14200298, 0.77844804 ],\n",
    "            [-0.00000000, -0.14200298, -0.77844804]],\n",
    "            device=device),units='a')\n",
    "\n",
    "orbs = OrbitalInfo(geometry.atomic_numbers, shell_dict)\n",
    "\n",
    "# Identify which species are present\n",
    "species = torch.unique(geometry.atomic_numbers)\n",
    "# Strip out padding species and convert to a standard list.\n",
    "species = species[species != 0].tolist()"
   ]
  },
  {
   "cell_type": "code",
   "execution_count": 14,
   "id": "c4ef8998",
   "metadata": {},
   "outputs": [],
   "source": [
    "h_feed = SkFeed.from_database(parameter_db_path, species, 'hamiltonian', device=device)\n",
    "s_feed = SkFeed.from_database(parameter_db_path, species, 'overlap', device=device)\n",
    "o_feed = SkfOccupationFeed.from_database(parameter_db_path, species, device=device)\n",
    "u_feed = HubbardFeed.from_database(parameter_db_path, species, device=device)\n",
    "r_feed = RepulsiveSplineFeed.from_database(parameter_db_path, species, device=device)"
   ]
  },
  {
   "cell_type": "code",
   "execution_count": 15,
   "id": "e43aabc6",
   "metadata": {},
   "outputs": [
    {
     "ename": "ValueError",
     "evalue": "All `Feeds` must be on the same device",
     "output_type": "error",
     "traceback": [
      "\u001b[31m---------------------------------------------------------------------------\u001b[39m",
      "\u001b[31mValueError\u001b[39m                                Traceback (most recent call last)",
      "\u001b[36mCell\u001b[39m\u001b[36m \u001b[39m\u001b[32mIn[15]\u001b[39m\u001b[32m, line 1\u001b[39m\n\u001b[32m----> \u001b[39m\u001b[32m1\u001b[39m dftb_calculator = \u001b[43mDftb2\u001b[49m\u001b[43m(\u001b[49m\u001b[43mh_feed\u001b[49m\u001b[43m,\u001b[49m\u001b[43m \u001b[49m\u001b[43ms_feed\u001b[49m\u001b[43m,\u001b[49m\u001b[43m \u001b[49m\u001b[43mo_feed\u001b[49m\u001b[43m,\u001b[49m\u001b[43m \u001b[49m\u001b[43mu_feed\u001b[49m\u001b[43m,\u001b[49m\u001b[43m \u001b[49m\u001b[43mr_feed\u001b[49m\u001b[43m)\u001b[49m\n",
      "\u001b[36mFile \u001b[39m\u001b[32m~/venvs/bachelor/lib/python3.11/site-packages/tbmalt/physics/dftb/__init__.py:764\u001b[39m, in \u001b[36mDftb2.__init__\u001b[39m\u001b[34m(self, h_feed, s_feed, o_feed, u_feed, r_feed, filling_temp, filling_scheme, max_scc_iter, mixer, **kwargs)\u001b[39m\n\u001b[32m    760\u001b[39m device_list = [\n\u001b[32m    761\u001b[39m     d.device \u001b[38;5;28;01mfor\u001b[39;00m d \u001b[38;5;129;01min\u001b[39;00m [h_feed, s_feed, o_feed, u_feed, r_feed]\n\u001b[32m    762\u001b[39m     \u001b[38;5;28;01mif\u001b[39;00m d \u001b[38;5;129;01mis\u001b[39;00m \u001b[38;5;129;01mnot\u001b[39;00m \u001b[38;5;28;01mNone\u001b[39;00m]\n\u001b[32m    763\u001b[39m \u001b[38;5;28;01mif\u001b[39;00m \u001b[38;5;129;01mnot\u001b[39;00m \u001b[38;5;28mlen\u001b[39m(\u001b[38;5;28mset\u001b[39m(device_list)) == \u001b[32m1\u001b[39m:\n\u001b[32m--> \u001b[39m\u001b[32m764\u001b[39m     \u001b[38;5;28;01mraise\u001b[39;00m \u001b[38;5;167;01mValueError\u001b[39;00m(\u001b[33m'\u001b[39m\u001b[33mAll `Feeds` must be on the same device\u001b[39m\u001b[33m'\u001b[39m)\n\u001b[32m    766\u001b[39m \u001b[38;5;28mself\u001b[39m._overlap: Optional[Tensor] = \u001b[38;5;28;01mNone\u001b[39;00m\n\u001b[32m    767\u001b[39m \u001b[38;5;28mself\u001b[39m._hamiltonian: Optional[Tensor] = \u001b[38;5;28;01mNone\u001b[39;00m\n",
      "\u001b[31mValueError\u001b[39m: All `Feeds` must be on the same device"
     ]
    }
   ],
   "source": [
    "dftb_calculator = Dftb2(h_feed, s_feed, o_feed, u_feed, r_feed)"
   ]
  }
 ],
 "metadata": {
  "kernelspec": {
   "display_name": "bachelor",
   "language": "python",
   "name": "python3"
  },
  "language_info": {
   "codemirror_mode": {
    "name": "ipython",
    "version": 3
   },
   "file_extension": ".py",
   "mimetype": "text/x-python",
   "name": "python",
   "nbconvert_exporter": "python",
   "pygments_lexer": "ipython3",
   "version": "3.11.0rc1"
  }
 },
 "nbformat": 4,
 "nbformat_minor": 5
}
