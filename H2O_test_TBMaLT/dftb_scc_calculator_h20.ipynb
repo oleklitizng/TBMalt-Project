{
 "cells": [
  {
   "cell_type": "markdown",
   "id": "0ff1d269",
   "metadata": {},
   "source": [
    "# DFTB SCC Calculator for H20 Molecule"
   ]
  },
  {
   "cell_type": "markdown",
   "id": "ce114cbc",
   "metadata": {},
   "source": [
    "# Setting up the enviroment"
   ]
  },
  {
   "cell_type": "code",
   "execution_count": 2,
   "id": "e51353ce",
   "metadata": {},
   "outputs": [],
   "source": [
    "import torch\n",
    "from tbmalt import Geometry, OrbitalInfo\n",
    "from tbmalt.tools.downloaders import download_dftb_parameter_set\n",
    "from tbmalt.physics.dftb import Dftb2\n",
    "from tbmalt.physics.dftb.feeds import SkFeed, SkfOccupationFeed, HubbardFeed, RepulsiveSplineFeed\n",
    "from tbmalt.data.units import length_units\n",
    "\n",
    "\n",
    "torch.set_default_dtype(torch.float64)"
   ]
  },
  {
   "cell_type": "markdown",
   "id": "f6569672",
   "metadata": {},
   "source": [
    "# Input the molecular system"
   ]
  },
  {
   "cell_type": "code",
   "execution_count": 3,
   "id": "f2ee0ad3",
   "metadata": {},
   "outputs": [],
   "source": [
    "def H2O_scc(device):\n",
    "    # Ensure device is a torch device\n",
    "    if isinstance(device, str):\n",
    "        device = torch.device(device)\n",
    "    \n",
    "    cutoff = torch.tensor([9.98], device=device)\n",
    "\n",
    "    geometry = Geometry(\n",
    "        torch.tensor([8,1,1], device=device),\n",
    "        torch.tensor([\n",
    "            [0.00000000, -0.71603315, -0.00000000],\n",
    "            [0.00000000, -0.14200298, 0.77844804 ],\n",
    "            [-0.00000000, -0.14200298, -0.77844804]],\n",
    "            device=device),units='a')\n",
    "\n",
    "    orbs = OrbitalInfo(geometry.atomic_numbers, {1: [0], 8: [0, 1]})\n",
    "\n",
    "    return geometry, orbs \n"
   ]
  },
  {
   "cell_type": "markdown",
   "id": "42746f02",
   "metadata": {},
   "source": [
    "# Loading of the DFTB parameters into their associated feed objects"
   ]
  },
  {
   "cell_type": "code",
   "execution_count": 4,
   "id": "08f404ab",
   "metadata": {},
   "outputs": [],
   "source": [
    "def feeds_scc(device, skf_file):\n",
    "    species = [1, 8]\n",
    "    h_feed = SkFeed.from_database(skf_file, species, 'hamiltonian', device=device)\n",
    "    s_feed = SkFeed.from_database(skf_file, species, 'overlap', device=device)\n",
    "    o_feed = SkfOccupationFeed.from_database(skf_file, species, device=device)\n",
    "    u_feed = HubbardFeed.from_database(skf_file, species, device=device)\n",
    "    r_feed = RepulsiveSplineFeed.from_database(skf_file, species, device=device)\n",
    "\n",
    "    return h_feed, s_feed, o_feed, u_feed, r_feed"
   ]
  },
  {
   "cell_type": "markdown",
   "id": "3e53bfa6",
   "metadata": {},
   "source": [
    "# Constructing the SCC-DFTB calculator"
   ]
  },
  {
   "cell_type": "code",
   "execution_count": 5,
   "id": "bf8be0b5",
   "metadata": {},
   "outputs": [],
   "source": [
    "file_path = \"mio.h5\"  # Save as HDF5 file\n",
    "device = torch.device('cpu')\n",
    "\n",
    "h_feed, s_feed, o_feed, u_feed, r_feed = feeds_scc(device,file_path)\n",
    "\n",
    "calculator = Dftb2(h_feed, s_feed, o_feed, u_feed, r_feed)\n",
    "\n",
    "geometry, orbs = H2O_scc(device)"
   ]
  },
  {
   "cell_type": "markdown",
   "id": "355af8cb",
   "metadata": {},
   "source": [
    "# Performing Calculations"
   ]
  },
  {
   "cell_type": "code",
   "execution_count": 8,
   "id": "80326728",
   "metadata": {},
   "outputs": [
    {
     "name": "stdout",
     "output_type": "stream",
     "text": [
      "Energy: tensor([0.0910])\n",
      "Total energy: tensor([-4.0779])\n",
      "Q Final Atomic: tensor([6.5926, 0.7037, 0.7037])\n",
      "Hamiltonian: tensor([[-0.8059,  0.0000,  0.0000,  0.0000, -0.4759, -0.4759],\n",
      "        [ 0.0000, -0.2592,  0.0000,  0.0000, -0.1917, -0.1917],\n",
      "        [ 0.0000,  0.0000, -0.2592,  0.0000, -0.2599,  0.2599],\n",
      "        [ 0.0000,  0.0000,  0.0000, -0.2592,  0.0000,  0.0000],\n",
      "        [-0.4759, -0.1917, -0.2599,  0.0000, -0.2276, -0.1049],\n",
      "        [-0.4759, -0.1917,  0.2599,  0.0000, -0.1049, -0.2276]])\n",
      "forces: tensor([[ 1.2326e-32, -8.3752e-06, -7.6328e-17],\n",
      "        [-2.4312e-17,  4.1876e-06,  1.9991e-05],\n",
      "        [ 2.4312e-17,  4.1876e-06, -1.9991e-05]])\n",
      "dipole_moment: tensor([ 0.0000e+00, -6.4284e-01, -3.3307e-16])\n"
     ]
    },
    {
     "name": "stderr",
     "output_type": "stream",
     "text": [
      "/home/user/venvs/bachelor/lib/python3.11/site-packages/tbmalt/physics/dftb/__init__.py:1140: UserWarning: This is an experimental feature which is not intended for public use!\n",
      "  warnings.warn(\n"
     ]
    }
   ],
   "source": [
    "energy = calculator(geometry, orbs)\n",
    "print('Energy:', energy)\n",
    "\n",
    "total_energy = calculator.total_energy\n",
    "print('Total energy:', total_energy)\n",
    "\n",
    "q_final_atomic = calculator.q_final_atomic\n",
    "print('Q Final Atomic:', q_final_atomic)\n",
    "\n",
    "hamiltonian = calculator.hamiltonian\n",
    "print('Hamiltonian:', hamiltonian)\n",
    "\n",
    "forces = calculator.forces\n",
    "print('forces:', forces)\n",
    "\n",
    "dipole = calculator.dipole\n",
    "print('dipole_moment:', dipole)"
   ]
  }
 ],
 "metadata": {
  "kernelspec": {
   "display_name": "bachelor",
   "language": "python",
   "name": "python3"
  },
  "language_info": {
   "codemirror_mode": {
    "name": "ipython",
    "version": 3
   },
   "file_extension": ".py",
   "mimetype": "text/x-python",
   "name": "python",
   "nbconvert_exporter": "python",
   "pygments_lexer": "ipython3",
   "version": "3.11.0rc1"
  }
 },
 "nbformat": 4,
 "nbformat_minor": 5
}
