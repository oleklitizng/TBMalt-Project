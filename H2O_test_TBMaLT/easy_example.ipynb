{
 "cells": [
  {
   "cell_type": "code",
   "execution_count": 2,
   "id": "65ffb6ce",
   "metadata": {},
   "outputs": [
    {
     "name": "stdout",
     "output_type": "stream",
     "text": [
      "Epoch 0: a = -0.0614, norm = 2.8284, loss = 4.715729\n",
      "Epoch 10: a = -0.5555, norm = 3.5563, loss = 2.084363\n",
      "Epoch 20: a = -0.8840, norm = 4.0402, loss = 0.921293\n",
      "Epoch 30: a = -1.1024, norm = 4.3619, loss = 0.407214\n",
      "Epoch 40: a = -1.2475, norm = 4.5757, loss = 0.179989\n",
      "Epoch 50: a = -1.3441, norm = 4.7179, loss = 0.079556\n",
      "Epoch 60: a = -1.4082, norm = 4.8125, loss = 0.035164\n",
      "Epoch 70: a = -1.4509, norm = 4.8753, loss = 0.015543\n",
      "Epoch 80: a = -1.4793, norm = 4.9171, loss = 0.006870\n",
      "Epoch 90: a = -1.4981, norm = 4.9449, loss = 0.003036\n",
      "\n",
      "Finaler Wert von a: -1.5096\n"
     ]
    }
   ],
   "source": [
    "import torch\n",
    "\n",
    "# Zielwert\n",
    "target = torch.tensor(5.0)\n",
    "\n",
    "# Parameter a, mit Gradienten\n",
    "a = torch.nn.Parameter(torch.tensor(0.0))\n",
    "\n",
    "# Optimizer\n",
    "optimizer = torch.optim.SGD([a], lr=0.01)\n",
    "\n",
    "# Fixer Vektor\n",
    "v2 = torch.tensor([2.0, 1.0, 1.0])\n",
    "\n",
    "for epoch in range(100):\n",
    "    optimizer.zero_grad()\n",
    "\n",
    "    # Vektor v1 mit Parameter a\n",
    "    v1 = torch.stack([a, torch.tensor(1.0), torch.tensor(1.0)])\n",
    "\n",
    "    # Kreuzprodukt\n",
    "    cross = torch.cross(v1, v2)\n",
    "\n",
    "    # Norm (Betrag) des Kreuzprodukts\n",
    "    norm = torch.norm(cross)\n",
    "\n",
    "    # Loss: quadratischer Abstand zur Zielgröße\n",
    "    loss = (norm - target)**2\n",
    "\n",
    "    # Rückwärts und Optimieren\n",
    "    loss.backward()\n",
    "    optimizer.step()\n",
    "\n",
    "    if epoch % 10 == 0:\n",
    "        print(f\"Epoch {epoch}: a = {a.item():.4f}, norm = {norm.item():.4f}, loss = {loss.item():.6f}\")\n",
    "\n",
    "print(f\"\\nFinaler Wert von a: {a.item():.4f}\")\n"
   ]
  }
 ],
 "metadata": {
  "kernelspec": {
   "display_name": "bachelor",
   "language": "python",
   "name": "python3"
  },
  "language_info": {
   "codemirror_mode": {
    "name": "ipython",
    "version": 3
   },
   "file_extension": ".py",
   "mimetype": "text/x-python",
   "name": "python",
   "nbconvert_exporter": "python",
   "pygments_lexer": "ipython3",
   "version": "3.11.0rc1"
  }
 },
 "nbformat": 4,
 "nbformat_minor": 5
}
