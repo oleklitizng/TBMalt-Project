{
 "cells": [
  {
   "cell_type": "code",
   "execution_count": 41,
   "id": "f6937238",
   "metadata": {},
   "outputs": [
    {
     "name": "stdout",
     "output_type": "stream",
     "text": [
      "Epoch 0: a = -0.0614, norm = 2.8284, loss = 4.715729\n",
      "Epoch 10: a = -0.5555, norm = 3.5563, loss = 2.084364\n",
      "Epoch 20: a = -0.8840, norm = 4.0402, loss = 0.921294\n",
      "Epoch 30: a = -1.1024, norm = 4.3619, loss = 0.407214\n",
      "Epoch 40: a = -1.2475, norm = 4.5757, loss = 0.179990\n",
      "Epoch 50: a = -1.3441, norm = 4.7179, loss = 0.079556\n",
      "Epoch 60: a = -1.4082, norm = 4.8125, loss = 0.035164\n",
      "Epoch 70: a = -1.4509, norm = 4.8753, loss = 0.015543\n",
      "Epoch 80: a = -1.4793, norm = 4.9171, loss = 0.006870\n",
      "Epoch 90: a = -1.4981, norm = 4.9449, loss = 0.003036\n",
      "\n",
      "Final value of a: -1.5096\n"
     ]
    }
   ],
   "source": [
    "import torch\n",
    "\n",
    "# v1 is a dict\n",
    "v1 = {\n",
    "    \"1\": torch.tensor([0.0, 1.0,1.0], requires_grad=True)  # We will overwrite v1[\"1\"][0] with `a` each iteration\n",
    "}\n",
    "\n",
    "# Target norm\n",
    "target = torch.tensor(5.0)\n",
    "\n",
    "# Trainable parameter a (1-element tensor)\n",
    "a = torch.nn.Parameter(torch.tensor(0.0))\n",
    "\n",
    "# Fixed part of the vector\n",
    "v1_rest = torch.tensor([1.0, 1.0])  # The fixed second and third components\n",
    "\n",
    "# Fixed vector to cross with\n",
    "v2 = torch.tensor([2.0, 1.0, 1.0])  # shape: (3,)\n",
    "\n",
    "# Optimizer\n",
    "optimizer = torch.optim.SGD([a], lr=0.01)\n",
    "\n",
    "for epoch in range(100):\n",
    "    optimizer.zero_grad()\n",
    "\n",
    "    # Dynamically create v1 with current a\n",
    "    v1[\"1\"] = torch.cat([a.view(1), v1_rest])  # shape: (3,)\n",
    "\n",
    "    # Compute cross product\n",
    "    cross = torch.cross( v1[\"1\"], v2)\n",
    "\n",
    "    # Compute norm\n",
    "    norm = torch.norm(cross)\n",
    "\n",
    "    # Loss function: squared error\n",
    "    loss = (norm - target) ** 2\n",
    "\n",
    "    # Backprop and optimization\n",
    "    loss.backward()\n",
    "    optimizer.step()\n",
    "\n",
    "    if epoch % 10 == 0:\n",
    "        print(f\"Epoch {epoch}: a = {a.item():.4f}, norm = {norm.item():.4f}, loss = {loss.item():.6f}\")\n",
    "\n",
    "print(f\"\\nFinal value of a: {a.item():.4f}\")\n",
    "\n"
   ]
  }
 ],
 "metadata": {
  "kernelspec": {
   "display_name": "bachelor",
   "language": "python",
   "name": "python3"
  },
  "language_info": {
   "codemirror_mode": {
    "name": "ipython",
    "version": 3
   },
   "file_extension": ".py",
   "mimetype": "text/x-python",
   "name": "python",
   "nbconvert_exporter": "python",
   "pygments_lexer": "ipython3",
   "version": "3.11.0rc1"
  }
 },
 "nbformat": 4,
 "nbformat_minor": 5
}
