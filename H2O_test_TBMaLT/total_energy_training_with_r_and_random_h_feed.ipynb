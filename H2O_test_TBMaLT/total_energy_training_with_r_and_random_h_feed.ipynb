{
 "cells": [
  {
   "cell_type": "markdown",
   "id": "06acd932-80ea-437e-af32-bc1411cd4645",
   "metadata": {},
   "source": [
    "## 1. Settings"
   ]
  },
  {
   "cell_type": "markdown",
   "id": "57ad964f-d817-4eef-860d-273cb36287f7",
   "metadata": {},
   "source": [
    "## 1.1 Setting up the environment"
   ]
  },
  {
   "cell_type": "code",
   "execution_count": 314,
   "id": "86267900-77d2-4363-bf7a-074a380da001",
   "metadata": {},
   "outputs": [],
   "source": [
    "import torch\n",
    "from tbmalt import Geometry, OrbitalInfo\n",
    "from tbmalt.physics.dftb import Dftb2\n",
    "from tbmalt.physics.dftb.feeds import SkFeed, SkfOccupationFeed, HubbardFeed, RepulsiveSplineFeed\n",
    "from tbmalt.common.maths.interpolation import CubicSpline\n",
    "from tbmalt.ml.loss_function import Loss, mse_loss\n",
    "import torch.nn as nn\n",
    "\n",
    "from ase.build import molecule\n",
    "\n",
    "Tensor = torch.Tensor\n",
    "\n",
    "# This must be set until typecasting from HDF5 databases has been implemented.\n",
    "torch.set_default_dtype(torch.float64)"
   ]
  },
  {
   "cell_type": "markdown",
   "id": "c9f2c0c8-6b83-4d11-87c3-16859de2025a",
   "metadata": {},
   "source": [
    "## 1.2 Setting up the molecular systems for training"
   ]
  },
  {
   "cell_type": "code",
   "execution_count": 315,
   "id": "6547b43a-9ba4-4f29-ac07-d9761e109a72",
   "metadata": {},
   "outputs": [],
   "source": [
    "# Provide a list of moecules for training\n",
    "molecule_names = ['H2O']\n",
    "\n",
    "# Reference of target properties\n",
    "targets = {'total_energy': torch.tensor(-4.0779379326)}\n",
    "\n",
    "# Provide information about the orbitals on each atom; this is keyed by atomic\n",
    "# numbers and valued by azimuthal quantum numbers like so:\n",
    "#   {Z₁: [ℓᵢ, ℓⱼ, ..., ℓₙ], Z₂: [ℓᵢ, ℓⱼ, ..., ℓₙ], ...}\n",
    "shell_dict = {1: [0], 6: [0, 1], 7: [0, 1], 8: [0, 1]}"
   ]
  },
  {
   "cell_type": "markdown",
   "id": "670b07be-0927-43a9-b6b4-c6c91d2b6265",
   "metadata": {},
   "source": [
    "## 1.3 Setting up the model for training"
   ]
  },
  {
   "cell_type": "code",
   "execution_count": 316,
   "id": "77ecc54c-f31d-4a16-a755-4e8f80a841e6",
   "metadata": {},
   "outputs": [],
   "source": [
    "# Before running this example, please use setup.ipynb to download the parameter set needed\n",
    "# Location at which the DFTB parameter set database is located\n",
    "parameter_db_path = 'mio.h5'\n",
    "\n",
    "# Type of ML model\n",
    "model = 'spline'\n",
    "\n",
    "# Whether performing model fitting\n",
    "fit_model = True\n",
    "\n",
    "# Number of training cycles\n",
    "number_of_epochs = 75\n",
    "\n",
    "# Learning rate\n",
    "lr = 0.002\n",
    "\n",
    "# Loss function\n",
    "loss_func = mse_loss"
   ]
  },
  {
   "cell_type": "markdown",
   "id": "0242de04-0cd6-458b-97c4-3c0b5467970c",
   "metadata": {},
   "source": [
    "## 1.4 Setting up the DFTB calculator"
   ]
  },
  {
   "cell_type": "markdown",
   "id": "855f3ba4-b2a2-43e8-ab0f-a50f8f3dc178",
   "metadata": {},
   "source": [
    "## 1.4.1 Input the molecular systems"
   ]
  },
  {
   "cell_type": "code",
   "execution_count": 317,
   "id": "e0227393-b39f-481b-a975-af6c2192a78a",
   "metadata": {},
   "outputs": [
    {
     "name": "stdout",
     "output_type": "stream",
     "text": [
      "Geometry: Geometry(OH2)\n",
      "OrbitalInfo: <tbmalt.structures.orbitalinfo.OrbitalInfo object at 0x7fbc50c22dd0>\n"
     ]
    }
   ],
   "source": [
    "device = torch.device('cpu')\n",
    "# Construct the `Geometry` and `OrbitalInfo` objects. The former is analogous\n",
    "# to the ase.Atoms object while the latter provides information about what\n",
    "# orbitals are present and which atoms they belong to.\n",
    "geometry = Geometry(\n",
    "        torch.tensor([8,1,1], device=device),\n",
    "        torch.tensor([\n",
    "            [0.00000000, -0.71603315, -0.00000000],\n",
    "            [0.00000000, -0.14200298, 0.77844804 ],\n",
    "            [-0.00000000, -0.14200298, -0.77844804]],\n",
    "            device=device),units='a')\n",
    "\n",
    "orbs = OrbitalInfo(geometry.atomic_numbers, shell_dict)\n",
    "\n",
    "print('Geometry:', geometry)\n",
    "print('OrbitalInfo:', orbs)\n",
    "\n",
    "# Identify which species are present\n",
    "species = torch.unique(geometry.atomic_numbers)\n",
    "# Strip out padding species and convert to a standard list.\n",
    "species = species[species != 0].tolist()"
   ]
  },
  {
   "cell_type": "markdown",
   "id": "465e5a54-3bd9-4200-b2f0-ac4480f5b8dc",
   "metadata": {},
   "source": [
    "## 1.4.2 Loading of the DFTB parameters into their associated feed objects"
   ]
  },
  {
   "cell_type": "code",
   "execution_count": 318,
   "id": "d719b8b2-e440-4812-9f37-5f7680e568be",
   "metadata": {},
   "outputs": [],
   "source": [
    "# Load the Hamiltonian feed model\n",
    "h_feed = SkFeed.from_database(parameter_db_path, species, 'hamiltonian',\n",
    "                              interpolation=CubicSpline, requires_grad_onsite=True, requires_grad_offsite=True)\n",
    "\n",
    "# Load the overlap feed model\n",
    "s_feed = SkFeed.from_database(parameter_db_path, species, 'overlap',\n",
    "                              interpolation=CubicSpline)\n",
    "\n",
    "# Load the occupation feed object\n",
    "o_feed = SkfOccupationFeed.from_database(parameter_db_path, species)\n",
    "\n",
    "# Load the Hubbard-U feed object\n",
    "u_feed = HubbardFeed.from_database(parameter_db_path, species)\n",
    "\n",
    "#When add r_feed, loss: tensor(1.4389e-09) on epoch 0\n",
    "#r_feed = RepulsiveSplineFeed.from_database(parameter_db_path, species)"
   ]
  },
  {
   "cell_type": "markdown",
   "id": "162de736-e9e9-4cfb-ab43-96fd7ed9a89b",
   "metadata": {},
   "source": [
    "## 1.4.3 Constructing the SCC-DFTB calculator"
   ]
  },
  {
   "cell_type": "code",
   "execution_count": null,
   "id": "9fd11853-8918-4146-b16f-becb5bff54c3",
   "metadata": {},
   "outputs": [
    {
     "name": "stdout",
     "output_type": "stream",
     "text": [
      "H: Parameter containing:\n",
      "tensor([[0.1294, 0.3944, 0.9115, 0.3050, 0.3288, 0.8858],\n",
      "        [0.4391, 0.3988, 0.9558, 0.8930, 0.2673, 0.3242],\n",
      "        [0.0765, 0.6723, 0.3761, 0.1178, 0.2099, 0.3327],\n",
      "        [0.1450, 0.4118, 0.1081, 0.7565, 0.3600, 0.0976],\n",
      "        [0.4255, 0.7476, 0.0302, 0.2104, 0.7348, 0.5833],\n",
      "        [0.0805, 0.0838, 0.4195, 0.1342, 0.1239, 0.4830]], requires_grad=True)\n"
     ]
    }
   ],
   "source": [
    "dftb_calculator = Dftb2(h_feed, s_feed, o_feed, u_feed, filling_scheme=None)\n",
    "\n",
    "zero_tensor = nn.Parameter(torch.rand((6, 6), dtype=torch.double))\n",
    "\n",
    "def return_random_tensor(geometry, orbs):\n",
    "    return zero_tensor\n",
    "\n",
    "# Methode ersetzen\n",
    "h_feed.matrix = return_random_tensor\n",
    "\n",
    "# Test\n",
    "H = h_feed.matrix(geometry, orbs)\n",
    "print('H:', H)"
   ]
  },
  {
   "cell_type": "markdown",
   "id": "8af4e07f-7335-4e0d-824e-ed4a92658e51",
   "metadata": {},
   "source": [
    "## 2. Data preparation"
   ]
  },
  {
   "cell_type": "code",
   "execution_count": 320,
   "id": "cc3800ec-cc7b-42c7-b6c4-10c533dc7ca3",
   "metadata": {},
   "outputs": [],
   "source": [
    "# Define a delegate to obtain predictions from the trained model\n",
    "def prediction_delegate(calculator, targets, **kwargs):\n",
    "     predictions = dict()\n",
    "     predictions[\"energy\"] = calculator.total_energy\n",
    "     \n",
    "     return predictions"
   ]
  },
  {
   "cell_type": "code",
   "execution_count": 321,
   "id": "071b1565-6e22-429e-b341-404db8a281b1",
   "metadata": {},
   "outputs": [],
   "source": [
    "# Define a delegate to obtain reference results\n",
    "def reference_delegate(calculator, targets, **kwargs):\n",
    "     references = dict()\n",
    "     references[\"energy\"] = targets['total_energy']\n",
    "\n",
    "     return references"
   ]
  },
  {
   "cell_type": "markdown",
   "id": "00c86651-bb66-400b-8658-2a599901f16d",
   "metadata": {},
   "source": [
    "## 3. Model training"
   ]
  },
  {
   "cell_type": "code",
   "execution_count": 322,
   "id": "5e4d3e50-5fe6-4b25-8f2b-9c6dcb6032b3",
   "metadata": {},
   "outputs": [
    {
     "name": "stdout",
     "output_type": "stream",
     "text": [
      "Parameter containing:\n",
      "tensor([[0.1294, 0.3944, 0.9115, 0.3050, 0.3288, 0.8858],\n",
      "        [0.4391, 0.3988, 0.9558, 0.8930, 0.2673, 0.3242],\n",
      "        [0.0765, 0.6723, 0.3761, 0.1178, 0.2099, 0.3327],\n",
      "        [0.1450, 0.4118, 0.1081, 0.7565, 0.3600, 0.0976],\n",
      "        [0.4255, 0.7476, 0.0302, 0.2104, 0.7348, 0.5833],\n",
      "        [0.0805, 0.0838, 0.4195, 0.1342, 0.1239, 0.4830]], requires_grad=True)\n"
     ]
    }
   ],
   "source": [
    "# Define parameters to optimize\n",
    "variable = h_feed.matrix(geometry, orbs)\n",
    "print(variable)"
   ]
  },
  {
   "cell_type": "code",
   "execution_count": 323,
   "id": "09978496-08fa-4a55-9e2a-e787b693b7be",
   "metadata": {},
   "outputs": [],
   "source": [
    "# Define the loss entity\n",
    "loss_entity = Loss(prediction_delegate, reference_delegate,\n",
    "                   loss_functions=loss_func, reduction='mean')"
   ]
  },
  {
   "cell_type": "code",
   "execution_count": 324,
   "id": "25021e29-92a2-4820-be51-8da5a2947564",
   "metadata": {},
   "outputs": [],
   "source": [
    "# Define optimizer\n",
    "optimizer = torch.optim.Adam([variable], lr=lr)"
   ]
  },
  {
   "cell_type": "code",
   "execution_count": 325,
   "id": "dcf9ba2d-f76e-4e90-b85b-21114246c423",
   "metadata": {},
   "outputs": [
    {
     "name": "stdout",
     "output_type": "stream",
     "text": [
      "epoch 0\n",
      "loss: tensor(19.5933, grad_fn=<AddBackward0>)\n",
      "epoch 1\n",
      "loss: tensor(19.0903, grad_fn=<AddBackward0>)\n",
      "epoch 2\n",
      "loss: tensor(18.5947, grad_fn=<AddBackward0>)\n",
      "epoch 3\n",
      "loss: tensor(18.1065, grad_fn=<AddBackward0>)\n",
      "epoch 4\n",
      "loss: tensor(17.6258, grad_fn=<AddBackward0>)\n",
      "epoch 5\n",
      "loss: tensor(17.1527, grad_fn=<AddBackward0>)\n",
      "epoch 6\n",
      "loss: tensor(16.6872, grad_fn=<AddBackward0>)\n",
      "epoch 7\n",
      "loss: tensor(16.2294, grad_fn=<AddBackward0>)\n",
      "epoch 8\n",
      "loss: tensor(15.7793, grad_fn=<AddBackward0>)\n",
      "epoch 9\n",
      "loss: tensor(15.3370, grad_fn=<AddBackward0>)\n",
      "epoch 10\n",
      "loss: tensor(14.9023, grad_fn=<AddBackward0>)\n",
      "epoch 11\n",
      "loss: tensor(14.4755, grad_fn=<AddBackward0>)\n",
      "epoch 12\n",
      "loss: tensor(14.0564, grad_fn=<AddBackward0>)\n",
      "epoch 13\n",
      "loss: tensor(13.6451, grad_fn=<AddBackward0>)\n",
      "epoch 14\n",
      "loss: tensor(13.2416, grad_fn=<AddBackward0>)\n",
      "epoch 15\n",
      "loss: tensor(12.8459, grad_fn=<AddBackward0>)\n",
      "epoch 16\n",
      "loss: tensor(12.4579, grad_fn=<AddBackward0>)\n",
      "epoch 17\n",
      "loss: tensor(12.0777, grad_fn=<AddBackward0>)\n",
      "epoch 18\n",
      "loss: tensor(11.7052, grad_fn=<AddBackward0>)\n",
      "epoch 19\n",
      "loss: tensor(11.3403, grad_fn=<AddBackward0>)\n",
      "epoch 20\n",
      "loss: tensor(10.9832, grad_fn=<AddBackward0>)\n",
      "epoch 21\n",
      "loss: tensor(10.6336, grad_fn=<AddBackward0>)\n",
      "epoch 22\n",
      "loss: tensor(10.2916, grad_fn=<AddBackward0>)\n",
      "epoch 23\n",
      "loss: tensor(9.9572, grad_fn=<AddBackward0>)\n",
      "epoch 24\n",
      "loss: tensor(9.6302, grad_fn=<AddBackward0>)\n",
      "epoch 25\n",
      "loss: tensor(9.3107, grad_fn=<AddBackward0>)\n",
      "epoch 26\n",
      "loss: tensor(8.9985, grad_fn=<AddBackward0>)\n",
      "epoch 27\n",
      "loss: tensor(8.6937, grad_fn=<AddBackward0>)\n",
      "epoch 28\n",
      "loss: tensor(8.3961, grad_fn=<AddBackward0>)\n",
      "epoch 29\n",
      "loss: tensor(8.1057, grad_fn=<AddBackward0>)\n",
      "epoch 30\n",
      "loss: tensor(7.8224, grad_fn=<AddBackward0>)\n",
      "epoch 31\n",
      "loss: tensor(7.5462, grad_fn=<AddBackward0>)\n",
      "epoch 32\n",
      "loss: tensor(7.2769, grad_fn=<AddBackward0>)\n",
      "epoch 33\n",
      "loss: tensor(7.0145, grad_fn=<AddBackward0>)\n",
      "epoch 34\n",
      "loss: tensor(6.7589, grad_fn=<AddBackward0>)\n",
      "epoch 35\n",
      "loss: tensor(6.5100, grad_fn=<AddBackward0>)\n",
      "epoch 36\n",
      "loss: tensor(6.2678, grad_fn=<AddBackward0>)\n",
      "epoch 37\n",
      "loss: tensor(6.0321, grad_fn=<AddBackward0>)\n",
      "epoch 38\n",
      "loss: tensor(5.8030, grad_fn=<AddBackward0>)\n",
      "epoch 39\n",
      "loss: tensor(5.5801, grad_fn=<AddBackward0>)\n",
      "epoch 40\n",
      "loss: tensor(5.3636, grad_fn=<AddBackward0>)\n",
      "epoch 41\n",
      "loss: tensor(5.1533, grad_fn=<AddBackward0>)\n",
      "epoch 42\n",
      "loss: tensor(4.9490, grad_fn=<AddBackward0>)\n",
      "epoch 43\n",
      "loss: tensor(4.7508, grad_fn=<AddBackward0>)\n",
      "epoch 44\n",
      "loss: tensor(4.5585, grad_fn=<AddBackward0>)\n",
      "epoch 45\n",
      "loss: tensor(4.3720, grad_fn=<AddBackward0>)\n",
      "epoch 46\n",
      "loss: tensor(4.1912, grad_fn=<AddBackward0>)\n",
      "epoch 47\n",
      "loss: tensor(4.0160, grad_fn=<AddBackward0>)\n",
      "epoch 48\n",
      "loss: tensor(3.8463, grad_fn=<AddBackward0>)\n",
      "epoch 49\n",
      "loss: tensor(3.6821, grad_fn=<AddBackward0>)\n",
      "epoch 50\n",
      "loss: tensor(3.5231, grad_fn=<AddBackward0>)\n",
      "epoch 51\n",
      "loss: tensor(3.3694, grad_fn=<AddBackward0>)\n",
      "epoch 52\n",
      "loss: tensor(3.2208, grad_fn=<AddBackward0>)\n",
      "epoch 53\n",
      "loss: tensor(3.0772, grad_fn=<AddBackward0>)\n",
      "epoch 54\n",
      "loss: tensor(2.9385, grad_fn=<AddBackward0>)\n",
      "epoch 55\n",
      "loss: tensor(2.8046, grad_fn=<AddBackward0>)\n",
      "epoch 56\n",
      "loss: tensor(2.6754, grad_fn=<AddBackward0>)\n",
      "epoch 57\n",
      "loss: tensor(2.5508, grad_fn=<AddBackward0>)\n",
      "epoch 58\n",
      "loss: tensor(2.4307, grad_fn=<AddBackward0>)\n",
      "epoch 59\n",
      "loss: tensor(2.3150, grad_fn=<AddBackward0>)\n",
      "epoch 60\n",
      "loss: tensor(2.2036, grad_fn=<AddBackward0>)\n",
      "epoch 61\n",
      "loss: tensor(2.0963, grad_fn=<AddBackward0>)\n",
      "epoch 62\n",
      "loss: tensor(1.9932, grad_fn=<AddBackward0>)\n",
      "epoch 63\n",
      "loss: tensor(1.8940, grad_fn=<AddBackward0>)\n",
      "epoch 64\n",
      "loss: tensor(1.7987, grad_fn=<AddBackward0>)\n",
      "epoch 65\n",
      "loss: tensor(1.7073, grad_fn=<AddBackward0>)\n",
      "epoch 66\n",
      "loss: tensor(1.6195, grad_fn=<AddBackward0>)\n",
      "epoch 67\n",
      "loss: tensor(1.5352, grad_fn=<AddBackward0>)\n",
      "epoch 68\n",
      "loss: tensor(1.4545, grad_fn=<AddBackward0>)\n",
      "epoch 69\n",
      "loss: tensor(1.3771, grad_fn=<AddBackward0>)\n",
      "epoch 70\n",
      "loss: tensor(1.3031, grad_fn=<AddBackward0>)\n",
      "epoch 71\n",
      "loss: tensor(1.2322, grad_fn=<AddBackward0>)\n",
      "epoch 72\n",
      "loss: tensor(1.1645, grad_fn=<AddBackward0>)\n",
      "epoch 73\n",
      "loss: tensor(1.0997, grad_fn=<AddBackward0>)\n",
      "epoch 74\n",
      "loss: tensor(1.0378, grad_fn=<AddBackward0>)\n"
     ]
    }
   ],
   "source": [
    "# Execution\n",
    "loss_list = []\n",
    "loss_list.append(0)\n",
    "for epoch in range(number_of_epochs):\n",
    "    _loss = 0\n",
    "    print('epoch', epoch)\n",
    "    dftb_calculator(geometry, orbs, grad_mode=\"direct\")\n",
    "    total_loss, raw_losses = loss_entity(dftb_calculator, targets)\n",
    "    _loss = _loss + total_loss\n",
    "    optimizer.zero_grad()\n",
    "    _loss.retain_grad()\n",
    "\n",
    "    # Invoke the autograd engine\n",
    "    _loss.backward(retain_graph=True)\n",
    "\n",
    "    # Update the model\n",
    "    optimizer.step()\n",
    "    print(\"loss:\", _loss)\n",
    "    loss_list.append(_loss.detach())"
   ]
  },
  {
   "cell_type": "code",
   "execution_count": 326,
   "id": "9d81ea0b-ca93-4b83-957a-fe09f42b0f02",
   "metadata": {},
   "outputs": [
    {
     "name": "stderr",
     "output_type": "stream",
     "text": [
      "findfont: Font family 'Arial' not found.\n",
      "findfont: Font family 'Arial' not found.\n",
      "findfont: Font family 'Arial' not found.\n",
      "findfont: Font family 'Arial' not found.\n"
     ]
    },
    {
     "name": "stderr",
     "output_type": "stream",
     "text": [
      "findfont: Font family 'Arial' not found.\n",
      "findfont: Font family 'Arial' not found.\n",
      "findfont: Font family 'Arial' not found.\n",
      "findfont: Font family 'Arial' not found.\n",
      "findfont: Font family 'Arial' not found.\n",
      "findfont: Font family 'Arial' not found.\n",
      "findfont: Font family 'Arial' not found.\n",
      "findfont: Font family 'Arial' not found.\n",
      "findfont: Font family 'Arial' not found.\n",
      "findfont: Font family 'Arial' not found.\n",
      "findfont: Font family 'Arial' not found.\n",
      "findfont: Font family 'Arial' not found.\n",
      "findfont: Font family 'Arial' not found.\n",
      "findfont: Font family 'Arial' not found.\n",
      "findfont: Font family 'Arial' not found.\n",
      "findfont: Font family 'Arial' not found.\n",
      "findfont: Font family 'Arial' not found.\n",
      "findfont: Font family 'Arial' not found.\n",
      "findfont: Font family 'Arial' not found.\n",
      "findfont: Font family 'Arial' not found.\n",
      "findfont: Font family 'Arial' not found.\n",
      "findfont: Font family 'Arial' not found.\n",
      "findfont: Font family 'Arial' not found.\n",
      "findfont: Font family 'Arial' not found.\n",
      "findfont: Font family 'Arial' not found.\n",
      "findfont: Font family 'Arial' not found.\n",
      "findfont: Font family 'Arial' not found.\n",
      "findfont: Font family 'Arial' not found.\n"
     ]
    },
    {
     "data": {
      "image/png": "[encoded data removed]",
      "text/plain": [
       "<Figure size 1000x600 with 1 Axes>"
      ]
     },
     "metadata": {},
     "output_type": "display_data"
    }
   ],
   "source": [
    "# Plot the loss\n",
    "import matplotlib.pyplot as plt\n",
    "plt.rcParams[\"figure.figsize\"] = (10, 6)\n",
    "plt.rcParams[\"font.family\"] = \"Arial\"\n",
    "plt.rcParams[\"axes.linewidth\"] = 1.5\n",
    "plt.tick_params(direction='in', labelsize='26', width=1.5, length=5, top='on',\n",
    "                    right='on', zorder=10)\n",
    "plt.plot(torch.linspace(1, number_of_epochs, number_of_epochs),\n",
    "         loss_list[1:])\n",
    "plt.xlabel(\"Iteration\", fontsize=28)\n",
    "plt.ylabel(\"Loss\",  fontsize=28)\n",
    "#plt.savefig('loss_hubbard.pdf', dpi=500, bbox_inches='tight')\n",
    "plt.show()"
   ]
  },
  {
   "cell_type": "code",
   "execution_count": null,
   "id": "b7cf60b4-66bd-4793-bfdb-632fba1b1437",
   "metadata": {},
   "outputs": [],
   "source": []
  }
 ],
 "metadata": {
  "kernelspec": {
   "display_name": "bachelor",
   "language": "python",
   "name": "python3"
  },
  "language_info": {
   "codemirror_mode": {
    "name": "ipython",
    "version": 3
   },
   "file_extension": ".py",
   "mimetype": "text/x-python",
   "name": "python",
   "nbconvert_exporter": "python",
   "pygments_lexer": "ipython3",
   "version": "3.11.0rc1"
  }
 },
 "nbformat": 4,
 "nbformat_minor": 5
}
