{
 "cells": [
  {
   "cell_type": "markdown",
   "id": "06acd932-80ea-437e-af32-bc1411cd4645",
   "metadata": {},
   "source": [
    "## 1. Settings"
   ]
  },
  {
   "cell_type": "markdown",
   "id": "57ad964f-d817-4eef-860d-273cb36287f7",
   "metadata": {},
   "source": [
    "## 1.1 Setting up the environment"
   ]
  },
  {
   "cell_type": "code",
   "execution_count": 15,
   "id": "86267900-77d2-4363-bf7a-074a380da001",
   "metadata": {},
   "outputs": [],
   "source": [
    "import torch\n",
    "from tbmalt import Geometry, OrbitalInfo\n",
    "from tbmalt.physics.dftb import Dftb2\n",
    "from tbmalt.physics.dftb.feeds import SkFeed, SkfOccupationFeed, HubbardFeed, RepulsiveSplineFeed\n",
    "from tbmalt.common.maths.interpolation import CubicSpline\n",
    "from tbmalt.ml.loss_function import Loss, mse_loss\n",
    "import torch.nn as nn\n",
    "\n",
    "from ase.build import molecule\n",
    "\n",
    "Tensor = torch.Tensor\n",
    "\n",
    "# This must be set until typecasting from HDF5 databases has been implemented.\n",
    "torch.set_default_dtype(torch.float64)"
   ]
  },
  {
   "cell_type": "markdown",
   "id": "c9f2c0c8-6b83-4d11-87c3-16859de2025a",
   "metadata": {},
   "source": [
    "## 1.2 Setting up the molecular systems for training"
   ]
  },
  {
   "cell_type": "code",
   "execution_count": null,
   "id": "6547b43a-9ba4-4f29-ac07-d9761e109a72",
   "metadata": {},
   "outputs": [],
   "source": [
    "# Provide a list of moecules for training\n",
    "molecule_names = ['H2O']\n",
    "\n",
    "# Reference of target properties\n",
    "targets = {'total_energy': torch.tensor([-4.0779]),\n",
    "           'q_final_atomic': torch.tensor([6.5926, 0.7037, 0.7037])}\n",
    "\n",
    "#targets = {'hamiltonian': torch.tensor([[-0.8059,  0.0000,  0.0000,  0.0000, -0.4759, -0.4759],\n",
    "#        [ 0.0000, -0.2592,  0.0000,  0.0000, -0.1917, -0.1917],\n",
    "#        [ 0.0000,  0.0000, -0.2592,  0.0000, -0.2599,  0.2599],\n",
    "#        [ 0.0000,  0.0000,  0.0000, -0.2592,  0.0000,  0.0000],\n",
    "#        [-0.4759, -0.1917, -0.2599,  0.0000, -0.2276, -0.1049],\n",
    "#        [-0.4759, -0.1917,  0.2599,  0.0000, -0.1049, -0.2276]])}\n",
    "# Provide information about the orbitals on each atom; this is keyed by atomic\n",
    "# numbers and valued by azimuthal quantum numbers like so:\n",
    "#   {Z₁: [ℓᵢ, ℓⱼ, ..., ℓₙ], Z₂: [ℓᵢ, ℓⱼ, ..., ℓₙ], ...}\n",
    "shell_dict = {1: [0], 6: [0, 1], 7: [0, 1], 8: [0, 1]}"
   ]
  },
  {
   "cell_type": "markdown",
   "id": "670b07be-0927-43a9-b6b4-c6c91d2b6265",
   "metadata": {},
   "source": [
    "## 1.3 Setting up the model for training"
   ]
  },
  {
   "cell_type": "code",
   "execution_count": 17,
   "id": "77ecc54c-f31d-4a16-a755-4e8f80a841e6",
   "metadata": {},
   "outputs": [],
   "source": [
    "# Before running this example, please use setup.ipynb to download the parameter set needed\n",
    "# Location at which the DFTB parameter set database is located\n",
    "parameter_db_path = 'mio.h5'\n",
    "\n",
    "# Type of ML model\n",
    "model = 'spline'\n",
    "\n",
    "# Whether performing model fitting\n",
    "fit_model = True\n",
    "\n",
    "# Number of training cycles\n",
    "number_of_epochs = 250\n",
    "\n",
    "# Learning rate\n",
    "lr = 0.002\n",
    "\n",
    "# Loss function\n",
    "loss_func = mse_loss"
   ]
  },
  {
   "cell_type": "markdown",
   "id": "0242de04-0cd6-458b-97c4-3c0b5467970c",
   "metadata": {},
   "source": [
    "## 1.4 Setting up the DFTB calculator"
   ]
  },
  {
   "cell_type": "markdown",
   "id": "855f3ba4-b2a2-43e8-ab0f-a50f8f3dc178",
   "metadata": {},
   "source": [
    "## 1.4.1 Input the molecular systems"
   ]
  },
  {
   "cell_type": "code",
   "execution_count": 18,
   "id": "e0227393-b39f-481b-a975-af6c2192a78a",
   "metadata": {},
   "outputs": [
    {
     "name": "stdout",
     "output_type": "stream",
     "text": [
      "Geometry: Geometry(OH2)\n",
      "OrbitalInfo: <tbmalt.structures.orbitalinfo.OrbitalInfo object at 0x7fabf696f6d0>\n"
     ]
    }
   ],
   "source": [
    "device = torch.device('cpu')\n",
    "# Construct the `Geometry` and `OrbitalInfo` objects. The former is analogous\n",
    "# to the ase.Atoms object while the latter provides information about what\n",
    "# orbitals are present and which atoms they belong to.\n",
    "geometry = Geometry(\n",
    "        torch.tensor([8,1,1], device=device),\n",
    "        torch.tensor([\n",
    "            [0.00000000, -0.71603315, -0.00000000],\n",
    "            [0.00000000, -0.14200298, 0.77844804 ],\n",
    "            [-0.00000000, -0.14200298, -0.77844804]],\n",
    "            device=device),units='a')\n",
    "\n",
    "orbs = OrbitalInfo(geometry.atomic_numbers, shell_dict)\n",
    "\n",
    "print('Geometry:', geometry)\n",
    "print('OrbitalInfo:', orbs)\n",
    "\n",
    "# Identify which species are present\n",
    "species = torch.unique(geometry.atomic_numbers)\n",
    "# Strip out padding species and convert to a standard list.\n",
    "species = species[species != 0].tolist()"
   ]
  },
  {
   "cell_type": "markdown",
   "id": "465e5a54-3bd9-4200-b2f0-ac4480f5b8dc",
   "metadata": {},
   "source": [
    "## 1.4.2 Loading of the DFTB parameters into their associated feed objects"
   ]
  },
  {
   "cell_type": "code",
   "execution_count": 19,
   "id": "d719b8b2-e440-4812-9f37-5f7680e568be",
   "metadata": {},
   "outputs": [],
   "source": [
    "# Load the Hamiltonian feed model\n",
    "h_feed = SkFeed.from_database(parameter_db_path, species, 'hamiltonian',\n",
    "                              interpolation=CubicSpline, requires_grad_onsite=True, requires_grad_offsite=True)\n",
    "\n",
    "# Load the overlap feed model\n",
    "s_feed = SkFeed.from_database(parameter_db_path, species, 'overlap',\n",
    "                              interpolation=CubicSpline)\n",
    "\n",
    "# Load the occupation feed object\n",
    "o_feed = SkfOccupationFeed.from_database(parameter_db_path, species)\n",
    "\n",
    "# Load the Hubbard-U feed object\n",
    "u_feed = HubbardFeed.from_database(parameter_db_path, species)\n",
    "\n",
    "#When add r_feed, loss: tensor(1.4389e-09) on epoch 0\n",
    "r_feed = RepulsiveSplineFeed.from_database(parameter_db_path, species)"
   ]
  },
  {
   "cell_type": "markdown",
   "id": "162de736-e9e9-4cfb-ab43-96fd7ed9a89b",
   "metadata": {},
   "source": [
    "## 1.4.3 Constructing the SCC-DFTB calculator"
   ]
  },
  {
   "cell_type": "code",
   "execution_count": 20,
   "id": "9fd11853-8918-4146-b16f-becb5bff54c3",
   "metadata": {},
   "outputs": [
    {
     "name": "stdout",
     "output_type": "stream",
     "text": [
      "H: tensor([[0.0582, 0.0629, 0.1236, 0.0526, 0.5262, 0.4768],\n",
      "        [0.9552, 0.9288, 0.0835, 0.1326, 0.1571, 0.3754],\n",
      "        [0.8425, 0.8705, 0.3775, 0.6124, 0.0881, 0.7012],\n",
      "        [0.6234, 0.4373, 0.0747, 0.6834, 0.3122, 0.3091],\n",
      "        [0.0313, 0.0404, 0.9319, 0.1521, 0.2650, 0.1304],\n",
      "        [0.2519, 0.2334, 0.2257, 0.3176, 0.6144, 0.5978]], requires_grad=True)\n"
     ]
    }
   ],
   "source": [
    "dftb_calculator = Dftb2(h_feed, s_feed, o_feed, u_feed, r_feed, filling_scheme=None)\n",
    "\n",
    "torch.manual_seed(42) # Set random seed for reproducibility\n",
    "# Create a random tensor for the Hamiltonian matrix\n",
    "zero_tensor = torch.rand((6, 6), dtype=torch.double, requires_grad=True)\n",
    "\n",
    "def return_random_tensor(geometry, orbs):\n",
    "    return zero_tensor\n",
    "\n",
    "# Assign the random tensor to the Hamiltonian feed\n",
    "h_feed.matrix = return_random_tensor\n",
    "\n",
    "# Test\n",
    "H = h_feed.matrix(geometry, orbs)\n",
    "print('H:', H)"
   ]
  },
  {
   "cell_type": "code",
   "execution_count": 21,
   "id": "1a07a331",
   "metadata": {},
   "outputs": [],
   "source": [
    "#Minimize variables\n",
    "#variable_ h =  torch.rand(1,dtype=torch.double, requires_grad=True)\n",
    "#h_feed.on_sites[\"1\"] = torch.tensor"
   ]
  },
  {
   "cell_type": "markdown",
   "id": "8af4e07f-7335-4e0d-824e-ed4a92658e51",
   "metadata": {},
   "source": [
    "## 2. Data preparation"
   ]
  },
  {
   "cell_type": "code",
   "execution_count": 22,
   "id": "cc3800ec-cc7b-42c7-b6c4-10c533dc7ca3",
   "metadata": {},
   "outputs": [],
   "source": [
    "# Define a delegate to obtain predictions from the trained model\n",
    "def prediction_delegate(calculator, targets, **kwargs):\n",
    "     predictions = dict()\n",
    "     predictions[\"energy\"] = calculator.total_energy\n",
    "     predictions[\"mulliken\"] = calculator.q_final_atomic\n",
    "     \n",
    "     return predictions"
   ]
  },
  {
   "cell_type": "code",
   "execution_count": 23,
   "id": "071b1565-6e22-429e-b341-404db8a281b1",
   "metadata": {},
   "outputs": [],
   "source": [
    "# Define a delegate to obtain reference results\n",
    "def reference_delegate(calculator, targets, **kwargs):\n",
    "     references = dict()\n",
    "     references[\"energy\"] = targets['total_energy']\n",
    "     references[\"mulliken\"] = targets['q_final_atomic']\n",
    "\n",
    "     return references"
   ]
  },
  {
   "cell_type": "markdown",
   "id": "00c86651-bb66-400b-8658-2a599901f16d",
   "metadata": {},
   "source": [
    "## 3. Model training"
   ]
  },
  {
   "cell_type": "code",
   "execution_count": 24,
   "id": "5e4d3e50-5fe6-4b25-8f2b-9c6dcb6032b3",
   "metadata": {},
   "outputs": [
    {
     "name": "stdout",
     "output_type": "stream",
     "text": [
      "tensor([[0.0582, 0.0629, 0.1236, 0.0526, 0.5262, 0.4768],\n",
      "        [0.9552, 0.9288, 0.0835, 0.1326, 0.1571, 0.3754],\n",
      "        [0.8425, 0.8705, 0.3775, 0.6124, 0.0881, 0.7012],\n",
      "        [0.6234, 0.4373, 0.0747, 0.6834, 0.3122, 0.3091],\n",
      "        [0.0313, 0.0404, 0.9319, 0.1521, 0.2650, 0.1304],\n",
      "        [0.2519, 0.2334, 0.2257, 0.3176, 0.6144, 0.5978]], requires_grad=True)\n"
     ]
    }
   ],
   "source": [
    "# Define parameters to optimize\n",
    "variable = h_feed.matrix(geometry, orbs)\n",
    "print(variable)"
   ]
  },
  {
   "cell_type": "code",
   "execution_count": 25,
   "id": "09978496-08fa-4a55-9e2a-e787b693b7be",
   "metadata": {},
   "outputs": [],
   "source": [
    "# Define the loss entity\n",
    "loss_entity = Loss(prediction_delegate, reference_delegate,\n",
    "                   loss_functions=loss_func, reduction='mean')"
   ]
  },
  {
   "cell_type": "code",
   "execution_count": 26,
   "id": "25021e29-92a2-4820-be51-8da5a2947564",
   "metadata": {},
   "outputs": [],
   "source": [
    "# Define optimizer\n",
    "optimizer = torch.optim.Adam([variable], lr=lr)"
   ]
  },
  {
   "cell_type": "code",
   "execution_count": 27,
   "id": "dcf9ba2d-f76e-4e90-b85b-21114246c423",
   "metadata": {},
   "outputs": [
    {
     "name": "stdout",
     "output_type": "stream",
     "text": [
      "epoch 0\n"
     ]
    },
    {
     "ename": "AssertionError",
     "evalue": "prediction & reference size mismatch found for energy",
     "output_type": "error",
     "traceback": [
      "\u001b[31m---------------------------------------------------------------------------\u001b[39m",
      "\u001b[31mAssertionError\u001b[39m                            Traceback (most recent call last)",
      "\u001b[36mCell\u001b[39m\u001b[36m \u001b[39m\u001b[32mIn[27]\u001b[39m\u001b[32m, line 8\u001b[39m\n\u001b[32m      6\u001b[39m \u001b[38;5;28mprint\u001b[39m(\u001b[33m'\u001b[39m\u001b[33mepoch\u001b[39m\u001b[33m'\u001b[39m, epoch)\n\u001b[32m      7\u001b[39m dftb_calculator(geometry, orbs, grad_mode=\u001b[33m\"\u001b[39m\u001b[33mdirect\u001b[39m\u001b[33m\"\u001b[39m)\n\u001b[32m----> \u001b[39m\u001b[32m8\u001b[39m total_loss, raw_losses = \u001b[43mloss_entity\u001b[49m\u001b[43m(\u001b[49m\u001b[43mdftb_calculator\u001b[49m\u001b[43m,\u001b[49m\u001b[43m \u001b[49m\u001b[43mtargets\u001b[49m\u001b[43m)\u001b[49m\n\u001b[32m      9\u001b[39m _loss = _loss + total_loss\n\u001b[32m     10\u001b[39m optimizer.zero_grad()\n",
      "\u001b[36mFile \u001b[39m\u001b[32m~/venvs/bachelor/lib/python3.11/site-packages/tbmalt/ml/loss_function.py:301\u001b[39m, in \u001b[36mLoss.__call__\u001b[39m\u001b[34m(self, calculator, dataset, **kwargs)\u001b[39m\n\u001b[32m    299\u001b[39m \u001b[38;5;66;03m# Check if the tensor size of prediction and reference identical\u001b[39;00m\n\u001b[32m    300\u001b[39m check = prediction.shape == reference.shape\n\u001b[32m--> \u001b[39m\u001b[32m301\u001b[39m \u001b[38;5;28;01massert\u001b[39;00m check, \u001b[33m'\u001b[39m\u001b[33mprediction & reference size mismatch found for \u001b[39m\u001b[33m'\u001b[39m + name\n\u001b[32m    303\u001b[39m \u001b[38;5;66;03m# Check if a custom loss function has been explicitly defined for\u001b[39;00m\n\u001b[32m    304\u001b[39m \u001b[38;5;66;03m# this property. If not, then fallback to the default function.\u001b[39;00m\n\u001b[32m    305\u001b[39m loss_function = \u001b[38;5;28mself\u001b[39m.loss_functions.get(\n\u001b[32m    306\u001b[39m     name, \u001b[38;5;28mself\u001b[39m.loss_functions[\u001b[33m\"\u001b[39m\u001b[33mdefault\u001b[39m\u001b[33m\"\u001b[39m])\n",
      "\u001b[31mAssertionError\u001b[39m: prediction & reference size mismatch found for energy"
     ]
    }
   ],
   "source": [
    "# Execution\n",
    "loss_list = []\n",
    "loss_list.append(0)\n",
    "for epoch in range(number_of_epochs):\n",
    "    _loss = 0\n",
    "    print('epoch', epoch)\n",
    "    dftb_calculator(geometry, orbs, grad_mode=\"direct\")\n",
    "    total_loss, raw_losses = loss_entity(dftb_calculator, targets)\n",
    "    _loss = _loss + total_loss\n",
    "    optimizer.zero_grad()\n",
    "    _loss.retain_grad()\n",
    "\n",
    "    # Invoke the autograd engine\n",
    "    _loss.backward(retain_graph=True)\n",
    "\n",
    "    # Update the model\n",
    "    optimizer.step()\n",
    "    print(\"loss:\", _loss)\n",
    "    loss_list.append(_loss.detach())\n",
    "\n",
    "H = h_feed.matrix(geometry, orbs)\n",
    "print('H:', H)"
   ]
  },
  {
   "cell_type": "code",
   "execution_count": null,
   "id": "9d81ea0b-ca93-4b83-957a-fe09f42b0f02",
   "metadata": {},
   "outputs": [
    {
     "name": "stderr",
     "output_type": "stream",
     "text": [
      "findfont: Font family 'Arial' not found.\n"
     ]
    },
    {
     "name": "stderr",
     "output_type": "stream",
     "text": [
      "findfont: Font family 'Arial' not found.\n",
      "findfont: Font family 'Arial' not found.\n",
      "findfont: Font family 'Arial' not found.\n",
      "findfont: Font family 'Arial' not found.\n",
      "findfont: Font family 'Arial' not found.\n",
      "findfont: Font family 'Arial' not found.\n",
      "findfont: Font family 'Arial' not found.\n",
      "findfont: Font family 'Arial' not found.\n",
      "findfont: Font family 'Arial' not found.\n",
      "findfont: Font family 'Arial' not found.\n",
      "findfont: Font family 'Arial' not found.\n",
      "findfont: Font family 'Arial' not found.\n",
      "findfont: Font family 'Arial' not found.\n",
      "findfont: Font family 'Arial' not found.\n",
      "findfont: Font family 'Arial' not found.\n",
      "findfont: Font family 'Arial' not found.\n",
      "findfont: Font family 'Arial' not found.\n",
      "findfont: Font family 'Arial' not found.\n",
      "findfont: Font family 'Arial' not found.\n",
      "findfont: Font family 'Arial' not found.\n",
      "findfont: Font family 'Arial' not found.\n",
      "findfont: Font family 'Arial' not found.\n",
      "findfont: Font family 'Arial' not found.\n",
      "findfont: Font family 'Arial' not found.\n",
      "findfont: Font family 'Arial' not found.\n",
      "findfont: Font family 'Arial' not found.\n",
      "findfont: Font family 'Arial' not found.\n",
      "findfont: Font family 'Arial' not found.\n",
      "findfont: Font family 'Arial' not found.\n",
      "findfont: Font family 'Arial' not found.\n",
      "findfont: Font family 'Arial' not found.\n",
      "findfont: Font family 'Arial' not found.\n",
      "findfont: Font family 'Arial' not found.\n",
      "findfont: Font family 'Arial' not found.\n",
      "findfont: Font family 'Arial' not found.\n",
      "findfont: Font family 'Arial' not found.\n",
      "findfont: Font family 'Arial' not found.\n"
     ]
    },
    {
     "data": {
      "image/png": "[encoded data removed]",
      "text/plain": [
       "<Figure size 1000x600 with 1 Axes>"
      ]
     },
     "metadata": {},
     "output_type": "display_data"
    }
   ],
   "source": [
    "# Plot the loss\n",
    "import matplotlib.pyplot as plt\n",
    "plt.rcParams[\"figure.figsize\"] = (10, 6)\n",
    "plt.rcParams[\"font.family\"] = \"Arial\"\n",
    "plt.rcParams[\"axes.linewidth\"] = 1.5\n",
    "plt.tick_params(direction='in', labelsize='26', width=1.5, length=5, top='on',\n",
    "                    right='on', zorder=10)\n",
    "plt.plot(torch.linspace(1, number_of_epochs, number_of_epochs),\n",
    "         loss_list[1:])\n",
    "plt.xlabel(\"Iteration\", fontsize=28)\n",
    "plt.ylabel(\"Loss\",  fontsize=28)\n",
    "#plt.savefig('loss_hubbard.pdf', dpi=500, bbox_inches='tight')\n",
    "plt.show()"
   ]
  },
  {
   "cell_type": "code",
   "execution_count": null,
   "id": "b7cf60b4-66bd-4793-bfdb-632fba1b1437",
   "metadata": {},
   "outputs": [],
   "source": [
    "#Test"
   ]
  }
 ],
 "metadata": {
  "kernelspec": {
   "display_name": "bachelor",
   "language": "python",
   "name": "python3"
  },
  "language_info": {
   "codemirror_mode": {
    "name": "ipython",
    "version": 3
   },
   "file_extension": ".py",
   "mimetype": "text/x-python",
   "name": "python",
   "nbconvert_exporter": "python",
   "pygments_lexer": "ipython3",
   "version": "3.11.0rc1"
  }
 },
 "nbformat": 4,
 "nbformat_minor": 5
}
